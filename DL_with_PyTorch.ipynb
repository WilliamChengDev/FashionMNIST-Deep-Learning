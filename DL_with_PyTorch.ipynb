{
 "cells": [
  {
   "cell_type": "code",
   "execution_count": 1,
   "id": "a2209402",
   "metadata": {},
   "outputs": [
    {
     "name": "stderr",
     "output_type": "stream",
     "text": [
      "100.0%\n",
      "100.0%\n",
      "100.0%\n",
      "100.0%"
     ]
    },
    {
     "name": "stdout",
     "output_type": "stream",
     "text": [
      "Train: 48000 | Val: 12000 | Test: 10000\n"
     ]
    },
    {
     "name": "stderr",
     "output_type": "stream",
     "text": [
      "\n"
     ]
    }
   ],
   "source": [
    "import torch\n",
    "import torch.nn as nn\n",
    "import torch.optim as optim\n",
    "import torchvision\n",
    "import torchvision.transforms as transforms\n",
    "from torch.utils.data import random_split, DataLoader\n",
    "\n",
    "#input transformation seqeunce\n",
    "transform = transforms.Compose([\n",
    "        transforms.Resize((28, 28)), #resize input to 28x28\n",
    "        transforms.ToTensor(), #convert image to pytorch tensor [0, 1] range\n",
    "        transforms.Normalize((0.5, ), (0.5, )) #normalize values to [-1, 1] range\n",
    "])\n",
    "\n",
    "#load traning and test FashionMNIST dataset\n",
    "'''\n",
    "root --> save location if download is needed#train --> what portion of the dataset to load (training or testing)\n",
    "download --> download dataset if not present in root\n",
    "transform --> apply transitions to each image as it is being accessed\n",
    "'''\n",
    "full_train_dataset = torchvision.datasets.FashionMNIST(\n",
    "        root='./data', train=True, download=True, transform=transform\n",
    ")\n",
    "\n",
    "test_dataset = torchvision.datasets.FashionMNIST(\n",
    "        root='./data', train=False, download=True, transform=transform\n",
    ")\n",
    "\n",
    "#Split training dataset into training and validation sets (80%/20%)\n",
    "train_size = int(0.8 * len(full_train_dataset))\n",
    "val_size = int(0.2 * len(full_train_dataset))\n",
    "train_dataset, val_dataset = random_split(full_train_dataset, [train_size, val_size])\n",
    "\n",
    "#Create DataLoaders\n",
    "'''\n",
    "batch_size --> each batch retreived by the loader will get 512 samples at once\n",
    "        - reduces gradient noise\n",
    "        - allows parallel computing by GPU\n",
    "        - forward pass --> CEL --> backward pass --> Gradient update\n",
    "shuffle --> shuffle order samples are loaded\n",
    "        - shuffle for training set to prevent overfitting\n",
    "        - no shuffle for validation and testing set to ensure consistent & reproducible evaluation\n",
    "num_workers --> how many parallel processes will be handling data loading\n",
    "'''\n",
    "train_loader = DataLoader(train_dataset, batch_size=512, shuffle=True, num_workers=2)\n",
    "val_loader = DataLoader(val_dataset, batch_size=512, shuffle=False, num_workers=2)\n",
    "test = DataLoader(test_dataset, batch_size=512, shuffle=False, num_workers=2)\n",
    "\n",
    "print(f\"Train: {len(train_dataset)} | Val: {len(val_dataset)} | Test: {len(test_dataset)}\")\n",
    "\n"
   ]
  },
  {
   "cell_type": "code",
   "execution_count": null,
   "id": "246aae8e",
   "metadata": {},
   "outputs": [
    {
     "name": "stdout",
     "output_type": "stream",
     "text": [
      "FashionMNISTNet(\n",
      "  (conv1): Conv2d(1, 32, kernel_size=(3, 3), stride=(1, 1), padding=(1, 1))\n",
      "  (conv2): Conv2d(32, 64, kernel_size=(3, 3), stride=(1, 1), padding=(2, 2))\n",
      "  (conv3): Conv2d(64, 64, kernel_size=(3, 3), stride=(1, 1), padding=(1, 1))\n",
      "  (pool): MaxPool2d(kernel_size=2, stride=2, padding=0, dilation=1, ceil_mode=False)\n",
      "  (fc1): Linear(in_features=1024, out_features=256, bias=True)\n",
      "  (fc2): Linear(in_features=256, out_features=128, bias=True)\n",
      "  (fc3): Linear(in_features=128, out_features=10, bias=True)\n",
      ")\n"
     ]
    }
   ],
   "source": [
    "import torch.nn.functional as F\n",
    "\n",
    "class FashionMNISTNet(nn.Module):\n",
    "        '''\n",
    "        input: 28x28\n",
    "        conv1 = 32x28x28\n",
    "        maxpool = 32x14x14\n",
    "        conv2 = 64x16x16\n",
    "        maxpool = 64x8x8\n",
    "        conv3 = 64x8x8\n",
    "        maxpool = 64x4x4\n",
    "        flatten = 1024\n",
    "        '''\n",
    "        def __init__(self):\n",
    "                super(FashionMNISTNet, self).__init__()\n",
    "                self.conv1 = nn.Conv2d(in_channels=1, out_channels=32, kernel_size=3, stride=1, padding=1)\n",
    "                self.conv2 = nn.Conv2d(in_channels=32, out_channels=64, kernel_size=3, stride=1, padding=2)\n",
    "                self.conv3 = nn.Conv2d(in_channels=64, out_channels=64, kernel_size=3, stride=1, padding=1)\n",
    "                self.pool = nn.MaxPool2d(kernel_size=2, stride=2)\n",
    "                self.fc1 = nn.Linear(in_features=1024, out_features=256)\n",
    "                self.fc2 = nn.Linear(in_features=256, out_features=128)\n",
    "                self.fc3 = nn.Linear(in_features=128, out_features=10)\n",
    "\n",
    "        def forward(self, x):\n",
    "                x = self.pool(F.relu(self.conv1(x)))\n",
    "                x = self.pool(F.relu(self.conv2(x)))\n",
    "                x = self.pool(F.relu(self.conv3(x)))\n",
    "                x = torch.flatten(x, start_dim=1)\n",
    "                x = F.relu(self.fc1(x))\n",
    "                x = F.relu(self.fc2(x))\n",
    "                x = F.relu(self.fc3(x))\n",
    "                x = F.softmax(x, dim=1)\n",
    "                return x\n",
    "        \n",
    "net = FashionMNISTNet()\n",
    "print(net)"
   ]
  }
 ],
 "metadata": {
  "kernelspec": {
   "display_name": ".venv",
   "language": "python",
   "name": "python3"
  },
  "language_info": {
   "codemirror_mode": {
    "name": "ipython",
    "version": 3
   },
   "file_extension": ".py",
   "mimetype": "text/x-python",
   "name": "python",
   "nbconvert_exporter": "python",
   "pygments_lexer": "ipython3",
   "version": "3.13.3"
  }
 },
 "nbformat": 4,
 "nbformat_minor": 5
}
