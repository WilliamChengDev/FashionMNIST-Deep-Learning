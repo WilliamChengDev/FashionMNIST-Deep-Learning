{
 "cells": [
  {
   "cell_type": "code",
   "execution_count": 1,
   "id": "a2209402",
   "metadata": {},
   "outputs": [
    {
     "name": "stderr",
     "output_type": "stream",
     "text": [
      "100.0%\n",
      "100.0%\n",
      "100.0%\n",
      "100.0%"
     ]
    },
    {
     "name": "stdout",
     "output_type": "stream",
     "text": [
      "Train: 48000 | Val: 12000 | Test: 10000\n"
     ]
    },
    {
     "name": "stderr",
     "output_type": "stream",
     "text": [
      "\n"
     ]
    }
   ],
   "source": [
    "import torch\n",
    "import torch.nn as nn\n",
    "import torch.optim as optim\n",
    "import torchvision\n",
    "import torchvision.transforms as transforms\n",
    "from torch.utils.data import random_split, DataLoader\n",
    "\n",
    "#input transformation seqeunce\n",
    "transform = transforms.Compose([\n",
    "        transforms.Resize((28, 28)), #resize input to 28x28\n",
    "        transforms.ToTensor(), #convert image to pytorch tensor [0, 1] range\n",
    "        transforms.Normalize((0.5, ), (0.5, )) #normalize values to [-1, 1] range\n",
    "])\n",
    "\n",
    "#load traning and test FashionMNIST dataset\n",
    "'''\n",
    "root --> save location if download is needed#train --> what portion of the dataset to load (training or testing)\n",
    "download --> download dataset if not present in root\n",
    "transform --> apply transitions to each image as it is being accessed\n",
    "'''\n",
    "full_train_dataset = torchvision.datasets.FashionMNIST(\n",
    "        root='./data', train=True, download=True, transform=transform\n",
    ")\n",
    "\n",
    "test_dataset = torchvision.datasets.FashionMNIST(\n",
    "        root='./data', train=False, download=True, transform=transform\n",
    ")\n",
    "\n",
    "#Split training dataset into training and validation sets (80%/20%)\n",
    "train_size = int(0.8 * len(full_train_dataset))\n",
    "val_size = int(0.2 * len(full_train_dataset))\n",
    "train_dataset, val_dataset = random_split(full_train_dataset, [train_size, val_size])\n",
    "\n",
    "#Create DataLoaders\n",
    "'''\n",
    "batch_size --> each batch retreived by the loader will get 512 samples at once\n",
    "        - reduces gradient noise\n",
    "        - allows parallel computing by GPU\n",
    "        - forward pass --> CEL --> backward pass --> Gradient update\n",
    "shuffle --> shuffle order samples are loaded\n",
    "        - shuffle for training set to prevent overfitting\n",
    "        - no shuffle for validation and testing set to ensure consistent & reproducible evaluation\n",
    "num_workers --> how many parallel processes will be handling data loading\n",
    "'''\n",
    "train_loader = DataLoader(train_dataset, batch_size=512, shuffle=True, num_workers=2)\n",
    "val_loader = DataLoader(val_dataset, batch_size=512, shuffle=False, num_workers=2)\n",
    "test = DataLoader(test_dataset, batch_size=512, shuffle=False, num_workers=2)\n",
    "\n",
    "print(f\"Train: {len(train_dataset)} | Val: {len(val_dataset)} | Test: {len(test_dataset)}\")\n",
    "\n"
   ]
  }
 ],
 "metadata": {
  "kernelspec": {
   "display_name": "Python 3",
   "language": "python",
   "name": "python3"
  },
  "language_info": {
   "codemirror_mode": {
    "name": "ipython",
    "version": 3
   },
   "file_extension": ".py",
   "mimetype": "text/x-python",
   "name": "python",
   "nbconvert_exporter": "python",
   "pygments_lexer": "ipython3",
   "version": "3.13.1"
  }
 },
 "nbformat": 4,
 "nbformat_minor": 5
}
